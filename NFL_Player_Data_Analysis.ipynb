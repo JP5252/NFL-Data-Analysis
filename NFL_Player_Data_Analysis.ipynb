{
 "cells": [
  {
   "cell_type": "markdown",
   "id": "340dd3a8-8205-448d-8fe3-3d2a8ff29d38",
   "metadata": {},
   "source": [
    "# NFL PLayer Data Analysis\n",
    "### By: Justin Pearson"
   ]
  },
  {
   "cell_type": "code",
   "execution_count": 1,
   "id": "ae24ca55-85ed-4546-9bb1-3e26e87d5f5e",
   "metadata": {},
   "outputs": [
    {
     "ename": "ModuleNotFoundError",
     "evalue": "No module named 'pycaret'",
     "output_type": "error",
     "traceback": [
      "\u001b[1;31m---------------------------------------------------------------------------\u001b[0m",
      "\u001b[1;31mModuleNotFoundError\u001b[0m                       Traceback (most recent call last)",
      "Cell \u001b[1;32mIn[1], line 12\u001b[0m\n\u001b[0;32m      9\u001b[0m \u001b[38;5;28;01mimport\u001b[39;00m \u001b[38;5;21;01mseaborn\u001b[39;00m \u001b[38;5;28;01mas\u001b[39;00m \u001b[38;5;21;01msns\u001b[39;00m\n\u001b[0;32m     11\u001b[0m \u001b[38;5;66;03m# ML\u001b[39;00m\n\u001b[1;32m---> 12\u001b[0m \u001b[38;5;28;01mfrom\u001b[39;00m \u001b[38;5;21;01mpycaret\u001b[39;00m\u001b[38;5;21;01m.\u001b[39;00m\u001b[38;5;21;01mregression\u001b[39;00m \u001b[38;5;28;01mimport\u001b[39;00m \u001b[38;5;241m*\u001b[39m\n\u001b[0;32m     15\u001b[0m \u001b[38;5;66;03m# Display maximum columns\u001b[39;00m\n\u001b[0;32m     16\u001b[0m pd\u001b[38;5;241m.\u001b[39mset_option(\u001b[38;5;124m'\u001b[39m\u001b[38;5;124mdisplay.max_columns\u001b[39m\u001b[38;5;124m'\u001b[39m, \u001b[38;5;28;01mNone\u001b[39;00m)\n",
      "\u001b[1;31mModuleNotFoundError\u001b[0m: No module named 'pycaret'"
     ]
    }
   ],
   "source": [
    "# Dependencies\n",
    "import nfl_data_py as nfl\n",
    "import stat_collection as stats\n",
    "\n",
    "# Basics / visualizations\n",
    "import pandas as pd\n",
    "from matplotlib import pyplot as plt\n",
    "import numpy as np\n",
    "import seaborn as sns\n",
    "\n",
    "# ML\n",
    "from pycaret.regression import *\n",
    "\n",
    "\n",
    "# Display maximum columns\n",
    "pd.set_option('display.max_columns', None)\n",
    "#stats.to_csv('{}-{}playerstats.csv'.format(start_year, final_year)) # csv output format {year}playerstats.csv"
   ]
  },
  {
   "cell_type": "markdown",
   "id": "18e461b9-7eb7-4b35-ac96-7634b1a6f791",
   "metadata": {},
   "source": [
    "# Set Year values here\n",
    "### - Year is the most recent year you want in the dataset\n",
    "### - years back is the amount of years you want to go back from the given year"
   ]
  },
  {
   "cell_type": "code",
   "execution_count": null,
   "id": "8019b881-3097-4220-bd4b-365dc1c1936d",
   "metadata": {},
   "outputs": [],
   "source": [
    "# Set year most recent year of desired dataset and how many years to go back\n",
    "year = 2023\n",
    "years_back = 20"
   ]
  },
  {
   "cell_type": "code",
   "execution_count": null,
   "id": "0f5c799e-3703-4e6d-a16a-f86cf8461a2c",
   "metadata": {},
   "outputs": [],
   "source": [
    "# get dataframes\n",
    "pass_df, def_df = stats.get_stats(year, years_back)"
   ]
  },
  {
   "cell_type": "code",
   "execution_count": null,
   "id": "1f9df6f4-eaa5-4a49-bb3a-e7b51011ff25",
   "metadata": {},
   "outputs": [],
   "source": [
    "# Merge the defense and passer dataframes together\n",
    "df = pass_df.merge(def_df, how='inner', on=['defteam', 'season', 'week', 'roof', 'surface'], suffixes=('_passer', '_defense'))\n",
    "\n",
    "# clean outliers from the data\n",
    "df = df[df['pass_attempts_ewma_passer'] > 5]\n"
   ]
  },
  {
   "cell_type": "markdown",
   "id": "cefb534b-081b-4d5c-9a9d-7191eddc3e6c",
   "metadata": {},
   "source": [
    "# Passing Data Overview"
   ]
  },
  {
   "cell_type": "code",
   "execution_count": null,
   "id": "915fe360-916d-4618-94f1-c26e1274ff76",
   "metadata": {},
   "outputs": [],
   "source": [
    "# Get an overview of the data\n",
    "df.describe().round(2)"
   ]
  },
  {
   "cell_type": "markdown",
   "id": "0e6e5815-1ac1-4a05-9d56-5e48500b3c26",
   "metadata": {},
   "source": [
    "# Passing Data Heat Map"
   ]
  },
  {
   "cell_type": "code",
   "execution_count": null,
   "id": "3f553377-c1e7-4497-a0a1-bebe748e1fcb",
   "metadata": {},
   "outputs": [],
   "source": [
    "# Create a correlation for the dataset.\n",
    "dataset_corr = df.select_dtypes(include=['number']).corr()\n",
    "\n",
    "# Drop Agent_ID from correlation dataset.\n",
    "dataset_corr = dataset_corr.drop(['passing_yards'], axis=1)\n",
    "dataset_corr = dataset_corr.drop(['passing_yards'], axis=0)\n",
    "\n",
    "# Create a correlation matrix. Only bottom left corner valued.\n",
    "mask = np.zeros_like(dataset_corr.round(4))\n",
    "mask[np.triu_indices_from(mask)] = True\n",
    "\n",
    "# Generate the corrleation matrix (heatmap) using Seaborn.\n",
    "with sns.axes_style(\"whitegrid\"):\n",
    "    f, ax = plt.subplots(figsize=(12, 10))\n",
    "    ax = sns.heatmap(dataset_corr.round(2), mask=mask, vmax=1, center=0, vmin=-1, square=True,\n",
    "                     cmap='PuOr', linewidths=.5, annot=True, annot_kws={\"size\": 12}, fmt='.1f')\n",
    "    plt.title('Heatmap (Correlations) of Features in the Dataset', fontsize=15)\n",
    "    plt.xlabel('Features', fontsize=15)\n",
    "    plt.ylabel('Features', fontsize=15)\n",
    "plt.show()"
   ]
  },
  {
   "cell_type": "markdown",
   "id": "bd8488dc-fe19-406e-943d-769df81bdf78",
   "metadata": {},
   "source": [
    "# Modeling With PyCaret"
   ]
  },
  {
   "cell_type": "code",
   "execution_count": null,
   "id": "32197f08-1bb8-4be7-8e2d-7a7020094932",
   "metadata": {},
   "outputs": [],
   "source": [
    "# Initialize PyCaret with default settings to start\n",
    "setup = setup(data = df, target = 'passing_yards', session_id=123)"
   ]
  }
 ],
 "metadata": {
  "kernelspec": {
   "display_name": "Python 3 (ipykernel)",
   "language": "python",
   "name": "python3"
  },
  "language_info": {
   "codemirror_mode": {
    "name": "ipython",
    "version": 3
   },
   "file_extension": ".py",
   "mimetype": "text/x-python",
   "name": "python",
   "nbconvert_exporter": "python",
   "pygments_lexer": "ipython3",
   "version": "3.11.4"
  }
 },
 "nbformat": 4,
 "nbformat_minor": 5
}
