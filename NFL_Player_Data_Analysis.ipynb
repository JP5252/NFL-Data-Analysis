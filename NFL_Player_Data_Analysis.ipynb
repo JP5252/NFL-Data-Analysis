{
 "cells": [
  {
   "cell_type": "code",
   "execution_count": 1,
   "id": "ae24ca55-85ed-4546-9bb1-3e26e87d5f5e",
   "metadata": {},
   "outputs": [],
   "source": [
    "# Dependencies\n",
    "import pandas as pd\n",
    "import nfl_data_py as nfl\n",
    "import stat_collection as stats\n",
    "\n",
    "\n",
    "# Display maximum columns\n",
    "pd.set_option('display.max_columns', None)\n",
    "#stats.to_csv('{}-{}playerstats.csv'.format(start_year, final_year)) # csv output format {year}playerstats.csv"
   ]
  },
  {
   "cell_type": "code",
   "execution_count": 2,
   "id": "8019b881-3097-4220-bd4b-365dc1c1936d",
   "metadata": {},
   "outputs": [],
   "source": [
    "# Set year of desired dataset\n",
    "year = 2023\n"
   ]
  },
  {
   "cell_type": "code",
   "execution_count": 3,
   "id": "0f5c799e-3703-4e6d-a16a-f86cf8461a2c",
   "metadata": {},
   "outputs": [
    {
     "name": "stdout",
     "output_type": "stream",
     "text": [
      "2020 done.\n",
      "2021 done.\n",
      "2022 done.\n",
      "2023 done.\n",
      "Downcasting floats.\n"
     ]
    }
   ],
   "source": [
    "pass_df, def_df = stats.get_stats(year, 3)\n"
   ]
  }
 ],
 "metadata": {
  "kernelspec": {
   "display_name": "Python 3 (ipykernel)",
   "language": "python",
   "name": "python3"
  },
  "language_info": {
   "codemirror_mode": {
    "name": "ipython",
    "version": 3
   },
   "file_extension": ".py",
   "mimetype": "text/x-python",
   "name": "python",
   "nbconvert_exporter": "python",
   "pygments_lexer": "ipython3",
   "version": "3.11.4"
  }
 },
 "nbformat": 4,
 "nbformat_minor": 5
}
